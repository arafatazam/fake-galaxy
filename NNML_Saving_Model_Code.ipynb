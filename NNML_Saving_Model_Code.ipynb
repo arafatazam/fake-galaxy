{
  "cells": [
    {
      "cell_type": "code",
      "execution_count": null,
      "metadata": {
        "id": "lQrDDC-QoAX6"
      },
      "outputs": [],
      "source": [
        "import tensorflow as tf"
      ]
    },
    {
      "cell_type": "code",
      "execution_count": null,
      "metadata": {
        "id": "GpNJxY1eoJP3"
      },
      "outputs": [],
      "source": [
        "# Dummy Model Code\n",
        "\n",
        "our_model = tf.keras.Sequential([tf.keras.layers.Input(shape=(64,)),\n",
        "                                 tf.keras.layers.Dense(1)])"
      ]
    },
    {
      "cell_type": "code",
      "execution_count": null,
      "metadata": {
        "colab": {
          "base_uri": "https://localhost:8080/"
        },
        "id": "ck5WqmgOo9T2",
        "outputId": "7f47360b-fba9-48f4-adde-a91ff023bb1b"
      },
      "outputs": [],
      "source": [
        "# Dummy Training Code\n",
        "\n",
        "x_train = tf.random.normal((1024,64), dtype='float32')\n",
        "y_train = tf.cast(tf.random.categorical(tf.math.log([[0.5, 0.5]]), 1024)[0], 'float32')\n",
        "\n",
        "our_model.compile(optimizer='adam', loss=tf.keras.losses.BinaryCrossentropy())\n",
        "\n",
        "our_model.fit(x_train, y_train, epochs=5, batch_size=64)"
      ]
    },
    {
      "cell_type": "code",
      "execution_count": null,
      "metadata": {
        "id": "UICItD_dobFp"
      },
      "outputs": [],
      "source": [
        "# Saving your model\n",
        "\n",
        "our_model.save('/content/Group_X_Model_Trained')"
      ]
    },
    {
      "cell_type": "code",
      "execution_count": null,
      "metadata": {
        "colab": {
          "base_uri": "https://localhost:8080/"
        },
        "id": "MCEZ79GPotZ0",
        "outputId": "b7cc8c06-70ff-4b00-ec54-5e3aeed81241"
      },
      "outputs": [],
      "source": [
        "# Test saved model\n",
        "\n",
        "loaded_model = tf.keras.models.load_model('/content/Group_X_Model_Trained')\n",
        "loaded_model.summary()"
      ]
    },
    {
      "cell_type": "code",
      "execution_count": null,
      "metadata": {
        "colab": {
          "base_uri": "https://localhost:8080/"
        },
        "id": "ygEz3IZ1qqS5",
        "outputId": "6743d822-a5e5-44f9-865f-fc46f29a428f"
      },
      "outputs": [],
      "source": [
        "# zip the model\n",
        "!zip -r /content/Group_X_Model_Trained.zip /content/Group_X_Model_Trained"
      ]
    }
  ],
  "metadata": {
    "colab": {
      "provenance": []
    },
    "kernelspec": {
      "display_name": "Python 3",
      "name": "python3"
    },
    "language_info": {
      "name": "python"
    }
  },
  "nbformat": 4,
  "nbformat_minor": 0
}
