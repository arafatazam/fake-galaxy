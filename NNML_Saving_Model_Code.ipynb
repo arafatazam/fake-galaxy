{
  "nbformat": 4,
  "nbformat_minor": 0,
  "metadata": {
    "colab": {
      "provenance": []
    },
    "kernelspec": {
      "name": "python3",
      "display_name": "Python 3"
    },
    "language_info": {
      "name": "python"
    }
  },
  "cells": [
    {
      "cell_type": "code",
      "execution_count": null,
      "metadata": {
        "id": "lQrDDC-QoAX6"
      },
      "outputs": [],
      "source": [
        "import tensorflow as tf"
      ]
    },
    {
      "cell_type": "code",
      "source": [
        "# Load the data\n",
        "train_real_images = np.load('train_real_images.npy')\n",
        "train_fake_images = np.load('train_fake_images.npy')\n",
        "test_real_images = np.load('test_real_images.npy')\n",
        "test_fake_images = np.load('test_fake_images.npy')\n",
        "\n",
        "# Rescale the pixel values to be between 0 and 1\n",
        "train_real_images = train_real_images / 255.0\n",
        "train_fake_images = train_fake_images / 255.0\n",
        "test_real_images = test_real_images / 255.0\n",
        "test_fake_images = test_fake_images / 255.0\n",
        "\n",
        "# Resize the images to a consistent size\n",
        "IMG_SIZE = 128\n",
        "train_real_images = tf.image.resize(train_real_images, (IMG_SIZE, IMG_SIZE))\n",
        "train_fake_images = tf.image.resize(train_fake_images, (IMG_SIZE, IMG_SIZE))\n",
        "test_real_images = tf.image.resize(test_real_images, (IMG_SIZE, IMG_SIZE))\n",
        "test_fake_images = tf.image.resize(test_fake_images, (IMG_SIZE, IMG_SIZE))\n",
        "\n",
        "# Combine the real and fake images for training and testing\n",
        "train_images = tf.concat([train_real_images, train_fake_images], axis=0)\n",
        "test_images = tf.concat([test_real_images, test_fake_images], axis=0)\n",
        "train_labels = np.concatenate([np.ones(len(train_real_images)), np.zeros(len(train_fake_images))])\n",
        "test_labels = np.concatenate([np.ones(len(test_real_images)), np.zeros(len(test_fake_images))])\n"
      ],
      "metadata": {
        "id": "GpNJxY1eoJP3"
      },
      "execution_count": null,
      "outputs": []
    },
    {
      "cell_type": "code",
      "source": [
        "def create_model():\n",
        "  model = models.Sequential([\n",
        "      layers.Conv2D(32, (3,3), activation='adam', input_shape=(IMG_SIZE, IMG_SIZE, 3)),\n",
        "      layers.MaxPooling2D((2,2)),\n",
        "      layers.Conv2D(64, (3,3), activation='adam'),\n",
        "      layers.MaxPooling2D((2,2)),\n",
        "      layers.Conv2D(128, (3,3), activation='adam'),\n",
        "      layers.MaxPooling2D((2,2)),\n",
        "      layers.Flatten(),\n",
        "      layers.Dense(64, activation='relu'),\n",
        "      layers.Dense(1, activation='sigmoid')\n",
        "  ])\n",
        "  model.compile(optimizer='adam', loss='binary_crossentropy', metrics=['accuracy'])\n",
        "  return model\n",
        "\n",
        "model = create_model()\n",
        "model.summary()\n"
      ],
      "metadata": {
        "colab": {
          "base_uri": "https://localhost:8080/"
        },
        "id": "ck5WqmgOo9T2",
        "outputId": "7f47360b-fba9-48f4-adde-a91ff023bb1b"
      },
      "execution_count": null,
      "outputs": [
        {
          "output_type": "stream",
          "name": "stdout",
          "text": [
            "Epoch 1/5\n",
            "16/16 [==============================] - 1s 2ms/step - loss: 5.8980\n",
            "Epoch 2/5\n",
            "16/16 [==============================] - 0s 2ms/step - loss: 5.8122\n",
            "Epoch 3/5\n",
            "16/16 [==============================] - 0s 2ms/step - loss: 5.7868\n",
            "Epoch 4/5\n",
            "16/16 [==============================] - 0s 2ms/step - loss: 5.7738\n",
            "Epoch 5/5\n",
            "16/16 [==============================] - 0s 2ms/step - loss: 5.7673\n"
          ]
        },
        {
          "output_type": "execute_result",
          "data": {
            "text/plain": [
              "<keras.callbacks.History at 0x7f7ce821bd30>"
            ]
          },
          "metadata": {},
          "execution_count": 14
        }
      ]
    },
    {
      "cell_type": "code",
      "source": [
        "# Saving your model\n",
        "\n",
        "our_model.save('/content/Group_X_Model_Trained')"
      ],
      "metadata": {
        "id": "UICItD_dobFp"
      },
      "execution_count": null,
      "outputs": []
    },
    {
      "cell_type": "code",
      "source": [
        "# Test saved model\n",
        "\n",
        "loaded_model = tf.keras.models.load_model('/content/Group_X_Model_Trained')\n",
        "loaded_model.summary()"
      ],
      "metadata": {
        "colab": {
          "base_uri": "https://localhost:8080/"
        },
        "id": "MCEZ79GPotZ0",
        "outputId": "b7cc8c06-70ff-4b00-ec54-5e3aeed81241"
      },
      "execution_count": null,
      "outputs": [
        {
          "output_type": "stream",
          "name": "stdout",
          "text": [
            "Model: \"sequential\"\n",
            "_________________________________________________________________\n",
            " Layer (type)                Output Shape              Param #   \n",
            "=================================================================\n",
            " dense (Dense)               (None, 1)                 65        \n",
            "                                                                 \n",
            "=================================================================\n",
            "Total params: 65\n",
            "Trainable params: 65\n",
            "Non-trainable params: 0\n",
            "_________________________________________________________________\n"
          ]
        }
      ]
    },
    {
      "cell_type": "code",
      "source": [
        "# zip the model\n",
        "!zip -r /content/Group_X_Model_Trained.zip /content/Group_X_Model_Trained"
      ],
      "metadata": {
        "colab": {
          "base_uri": "https://localhost:8080/"
        },
        "id": "ygEz3IZ1qqS5",
        "outputId": "6743d822-a5e5-44f9-865f-fc46f29a428f"
      },
      "execution_count": null,
      "outputs": [
        {
          "output_type": "stream",
          "name": "stdout",
          "text": [
            "  adding: content/Group_X_Model_Trained/ (stored 0%)\n",
            "  adding: content/Group_X_Model_Trained/variables/ (stored 0%)\n",
            "  adding: content/Group_X_Model_Trained/variables/variables.index (deflated 51%)\n",
            "  adding: content/Group_X_Model_Trained/variables/variables.data-00000-of-00001 (deflated 54%)\n",
            "  adding: content/Group_X_Model_Trained/saved_model.pb (deflated 85%)\n",
            "  adding: content/Group_X_Model_Trained/assets/ (stored 0%)\n",
            "  adding: content/Group_X_Model_Trained/keras_metadata.pb (deflated 77%)\n"
          ]
        }
      ]
    }
  ]
}